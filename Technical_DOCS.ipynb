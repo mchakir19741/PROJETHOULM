{
  "nbformat": 4,
  "nbformat_minor": 0,
  "metadata": {
    "colab": {
      "name": "Technical DOCS.ipynb",
      "provenance": [],
      "authorship_tag": "ABX9TyNwxx1zJxhpMOXQiICgrgz4",
      "include_colab_link": true
    },
    "kernelspec": {
      "name": "python3",
      "display_name": "Python 3"
    },
    "language_info": {
      "name": "python"
    }
  },
  "cells": [
    {
      "cell_type": "markdown",
      "metadata": {
        "id": "view-in-github",
        "colab_type": "text"
      },
      "source": [
        "<a href=\"https://colab.research.google.com/github/mchakir19741/PROJETHOULM/blob/main/Technical_DOCS.ipynb\" target=\"_parent\"><img src=\"https://colab.research.google.com/assets/colab-badge.svg\" alt=\"Open In Colab\"/></a>"
      ]
    },
    {
      "cell_type": "code",
      "source": [
        "def hello () : \n",
        "  return \"HELLO \"\n",
        "\n",
        "\n",
        "hello()\n",
        "   "
      ],
      "metadata": {
        "colab": {
          "base_uri": "https://localhost:8080/",
          "height": 35
        },
        "id": "IkTzUr03AMVa",
        "outputId": "200f2d9f-fadc-4042-9360-8ce25bfbdd27"
      },
      "execution_count": 2,
      "outputs": [
        {
          "output_type": "execute_result",
          "data": {
            "text/plain": [
              "'HELLO '"
            ],
            "application/vnd.google.colaboratory.intrinsic+json": {
              "type": "string"
            }
          },
          "metadata": {},
          "execution_count": 2
        }
      ]
    },
    {
      "cell_type": "markdown",
      "source": [
        "## PHASE ANALYSE \n",
        " "
      ],
      "metadata": {
        "id": "aSa90NhZBN-z"
      }
    },
    {
      "cell_type": "markdown",
      "source": [
        ""
      ],
      "metadata": {
        "id": "THoUIPOBBCBL"
      }
    },
    {
      "cell_type": "markdown",
      "source": [
        "Bonjour, \n",
        "MANAGE CODE"
      ],
      "metadata": {
        "id": "2M2lanx-AusO"
      }
    },
    {
      "cell_type": "code",
      "source": [
        ""
      ],
      "metadata": {
        "id": "m5gXlA_3Atz6"
      },
      "execution_count": null,
      "outputs": []
    }
  ]
}